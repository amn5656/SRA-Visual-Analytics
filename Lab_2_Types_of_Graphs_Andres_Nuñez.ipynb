{
  "nbformat": 4,
  "nbformat_minor": 0,
  "metadata": {
    "colab": {
      "name": "Lab 2 - Types of Graphs- Andres Nuñez",
      "provenance": [],
      "authorship_tag": "ABX9TyMmnoU2vm/aqsiVkOzpltEU",
      "include_colab_link": true
    },
    "kernelspec": {
      "name": "python3",
      "display_name": "Python 3"
    }
  },
  "cells": [
    {
      "cell_type": "markdown",
      "metadata": {
        "id": "view-in-github",
        "colab_type": "text"
      },
      "source": [
        "<a href=\"https://colab.research.google.com/github/amn5656/SRA-Visual-Analytics/blob/master/Lab_2_Types_of_Graphs_Andres_Nu%C3%B1ez.ipynb\" target=\"_parent\"><img src=\"https://colab.research.google.com/assets/colab-badge.svg\" alt=\"Open In Colab\"/></a>"
      ]
    },
    {
      "cell_type": "markdown",
      "metadata": {
        "id": "La2ouQZKLvoe",
        "colab_type": "text"
      },
      "source": [
        "**Graph Types**"
      ]
    },
    {
      "cell_type": "markdown",
      "metadata": {
        "id": "w5M7IG4tL-IO",
        "colab_type": "text"
      },
      "source": [
        "Creator \n",
        "\n",
        "- Andres Nuñez\n"
      ]
    },
    {
      "cell_type": "markdown",
      "metadata": {
        "id": "5nnfYwGMWDRA",
        "colab_type": "text"
      },
      "source": [
        "**Deviation** "
      ]
    },
    {
      "cell_type": "markdown",
      "metadata": {
        "id": "7UWyh9p6WPYq",
        "colab_type": "text"
      },
      "source": [
        "![Deviation Graph](https://raw.githubusercontent.com/amn5656/SRA-Visual-Analytics/master/folder/images/Screen%20Shot%202020-02-21%20at%209.38.38%20AM.png)\n"
      ]
    },
    {
      "cell_type": "markdown",
      "metadata": {
        "id": "ta-AhzaaWMFn",
        "colab_type": "text"
      },
      "source": [
        "What is this telling us?\n",
        "\n",
        "This graph shows us the average number of losing points on days of the week. The days that are negative had less than the average with some days having a zero calculation due to basketball not being played on those days and days like Saturday and Sundays where a lot of the games are played will have way higher than the average in losing points. The average that was calculated in tableau was 19744 and the is where the graph diverges at 0. This graph is appealing to visualize becasue we can see what days that are temans tend to play on throughout the past March Madness Tournaments.\n"
      ]
    },
    {
      "cell_type": "markdown",
      "metadata": {
        "id": "SS1MHfLqWYML",
        "colab_type": "text"
      },
      "source": [
        "**Correlation**"
      ]
    },
    {
      "cell_type": "markdown",
      "metadata": {
        "id": "ulPixU8eWZS1",
        "colab_type": "text"
      },
      "source": [
        "![Correlationgraph\n",
        "](https://raw.githubusercontent.com/amn5656/SRA-Visual-Analytics/master/folder/images/Screen%20Shot%202020-02-21%20at%207.52.47%20AM.png)"
      ]
    },
    {
      "cell_type": "markdown",
      "metadata": {
        "id": "n_ldM2WVWmNy",
        "colab_type": "text"
      },
      "source": [
        "What is this telling us?\n",
        "\n",
        "This graph is showing us that the correlation between winning points and losing points. I was courois to see if the losing teeams score would be affected by the amout of points scored by the winning team. My goal was to determine if the more points a team wins by the more points the oppisite team loses by. This data is also displays all of the winning points and losing points of all participating teams for every prevoius year March Madness was held. This graph shows that there is a positive between the two vaiables and suggests that the amount of points that the winning team gets does affect the total score of the losing team."
      ]
    },
    {
      "cell_type": "markdown",
      "metadata": {
        "id": "DsE0h8M3WoB4",
        "colab_type": "text"
      },
      "source": [
        "**Ranking**"
      ]
    },
    {
      "cell_type": "markdown",
      "metadata": {
        "id": "dyWQPItyWrlt",
        "colab_type": "text"
      },
      "source": [
        "![Ranking Graph](https://raw.githubusercontent.com/amn5656/SRA-Visual-Analytics/master/folder/images/Screen%20Shot%202020-02-21%20at%2010.10.44%20PM.png)"
      ]
    },
    {
      "cell_type": "markdown",
      "metadata": {
        "id": "DNEG9oTBWsyh",
        "colab_type": "text"
      },
      "source": [
        "What is this telling us?\n",
        "\n",
        "The data that this graph represents is the season that had the most losing points of all combined games of this season ranked from least(top) to highest (bottom). In 1985 the least amount of losing points obtained witha total of 3,738. The most amount of losing points scored against teams in 2011 with a total of 4,148. One can interpret the data as such that the higher the losing teams score could mean that teams are putting more of a fight against thier opponent in that given year. This claim can be supported be the previous correlation graph suggesting that the higher the winning teams score the more points the losing team will get."
      ]
    },
    {
      "cell_type": "markdown",
      "metadata": {
        "id": "iEQmQVqhWzCi",
        "colab_type": "text"
      },
      "source": [
        "**Distribution**"
      ]
    },
    {
      "cell_type": "markdown",
      "metadata": {
        "id": "L0o1GqzBW0e-",
        "colab_type": "text"
      },
      "source": [
        "![Distribution Graph](https://raw.githubusercontent.com/amn5656/SRA-Visual-Analytics/master/folder/images/Screen%20Shot%202020-02-21%20at%209.03.54%20AM.png)"
      ]
    },
    {
      "cell_type": "markdown",
      "metadata": {
        "id": "nG7oS2E1W10j",
        "colab_type": "text"
      },
      "source": [
        "What is this telling us?\n",
        "\n",
        "The data on this box plot graph shows the scores of each winning team in that given games year. One can gather a lot of information from this graph. You can see the outilers from for given game. This means if the outiler is on the bottom end of the box and whisker plot, the winning team score a very low score. If the dot is on the upper end of the plot, it means the winning scored very highly in that game commpared to the other winning scores in the tournament."
      ]
    },
    {
      "cell_type": "markdown",
      "metadata": {
        "id": "6oC2Qf5wW-lQ",
        "colab_type": "text"
      },
      "source": [
        " **Change Over Time**"
      ]
    },
    {
      "cell_type": "markdown",
      "metadata": {
        "id": "4-e2ONjvW-D9",
        "colab_type": "text"
      },
      "source": [
        "![Change Over Time](https://raw.githubusercontent.com/amn5656/SRA-Visual-Analytics/master/folder/images/Screen%20Shot%202020-02-21%20at%2010.52.02%20PM.png)"
      ]
    },
    {
      "cell_type": "markdown",
      "metadata": {
        "id": "Cr7o3GpKXJ-G",
        "colab_type": "text"
      },
      "source": [
        "What is this telling us?\n",
        "\n",
        "This graph shows us all of the total winning points over for each seasons in the form of a line graph. This allows us to see which seasons March Madness winning teams scored the most compared to other tournament years. This graph allows us to easily compare each year to see if there was a decline in total winning points from the combine participating teams. With this graph you can see that each peak in the data shows some of best seasons of winner scores in March Madness. You can also see which year’s show a decline in total winning points scored"
      ]
    },
    {
      "cell_type": "markdown",
      "metadata": {
        "id": "4SQtqhSCXMVw",
        "colab_type": "text"
      },
      "source": [
        "**Magnitude**"
      ]
    },
    {
      "cell_type": "markdown",
      "metadata": {
        "id": "VktE6HQNXM1W",
        "colab_type": "text"
      },
      "source": [
        "![alt text](https://raw.githubusercontent.com/amn5656/SRA-Visual-Analytics/master/folder/images/Screen%20Shot%202020-02-21%20at%2010.46.55%20PM.png)"
      ]
    },
    {
      "cell_type": "markdown",
      "metadata": {
        "id": "B6_5OKZ4XNOD",
        "colab_type": "text"
      },
      "source": [
        "What is the telling us?\n",
        "\n",
        "This paired column graph is similar to the line graph showing change over time but, it also shows losing points in addition to winning points. This allows us to visualize the magnitude of both the winning team and losing teams cumulative point counts for the given March Madness year. Compared to the change over time graph, we can look at each year to see if there was a decline in total winning points and losing points for the teams. We can also see that the Winning points accumulated over the tornament has always beat the losing point total. Some other data you can see is what years had a smaller differencial between losing and winning points."
      ]
    },
    {
      "cell_type": "markdown",
      "metadata": {
        "id": "-YS022pyXm3k",
        "colab_type": "text"
      },
      "source": [
        "**Part-to-Whole**"
      ]
    },
    {
      "cell_type": "markdown",
      "metadata": {
        "id": "nRfOlVyLXqWT",
        "colab_type": "text"
      },
      "source": [
        "![alt text](https://raw.githubusercontent.com/amn5656/SRA-Visual-Analytics/master/folder/images/Screen%20Shot%202020-02-21%20at%2010.55.13%20PM.png)"
      ]
    },
    {
      "cell_type": "markdown",
      "metadata": {
        "id": "_mIJmUfiXtPu",
        "colab_type": "text"
      },
      "source": [
        "What is the telling us?\n",
        "\n",
        "I used a treemap graph for the Part to whole relation which shows us the amount of championship wins each of the schools mascot species has. This graph allows us to see if multiple schools with the same species of mascots with championships, or  combined championship wins of schools with the same species for their masocts . This is nice to be able to see this data visualize because we can compare and see what species tend to win championships. One negative to this data is some schools that have won a championship are not represented because their mascot does not fall in to a species because the mascot me a fictional creature or is not real"
      ]
    }
  ]
}