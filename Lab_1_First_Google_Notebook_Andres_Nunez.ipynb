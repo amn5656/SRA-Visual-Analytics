{
  "nbformat": 4,
  "nbformat_minor": 0,
  "metadata": {
    "colab": {
      "name": "Lab 1 - First Google Notebook- Andres Nunez.ipynb",
      "provenance": [],
      "authorship_tag": "ABX9TyNBa14WPYvMMhbNAFW6DG9u",
      "include_colab_link": true
    },
    "kernelspec": {
      "name": "python3",
      "display_name": "Python 3"
    }
  },
  "cells": [
    {
      "cell_type": "markdown",
      "metadata": {
        "id": "view-in-github",
        "colab_type": "text"
      },
      "source": [
        "<a href=\"https://colab.research.google.com/github/amn5656/SRA-Visual-Analytics/blob/master/Lab_1_First_Google_Notebook_Andres_Nunez.ipynb\" target=\"_parent\"><img src=\"https://colab.research.google.com/assets/colab-badge.svg\" alt=\"Open In Colab\"/></a>"
      ]
    },
    {
      "cell_type": "markdown",
      "metadata": {
        "id": "O2IiSxiLBM9W",
        "colab_type": "text"
      },
      "source": [
        "# State College Max and Min Temprature in October 2018\n"
      ]
    },
    {
      "cell_type": "markdown",
      "metadata": {
        "id": "j5FnRMnkBLSd",
        "colab_type": "text"
      },
      "source": [
        "#Introduction \n"
      ]
    },
    {
      "cell_type": "markdown",
      "metadata": {
        "id": "0bHmQKQFUk87",
        "colab_type": "text"
      },
      "source": [
        "For this assignment I wanted to analysis the the maximum and minimum temperatures that State College, Pa reaches over the month of October. October tents to be the tipping point when it comes to bridging the mild weather in the autumn season to beginning of our cold winter. I believed that it would be intriguing to analyze the data at try to search for tends that could indicate a shift in climate in preparation for winter."
      ]
    },
    {
      "cell_type": "markdown",
      "metadata": {
        "id": "zhFzDTYBBU99",
        "colab_type": "text"
      },
      "source": [
        "# State College Max and Min Temperatures in October 2018"
      ]
    },
    {
      "cell_type": "markdown",
      "metadata": {
        "id": "N_PLynV5ZuZs",
        "colab_type": "text"
      },
      "source": [
        "![Max and Min TEmp Graph](https://raw.githubusercontent.com/amn5656/SRA-Visual-Analytics/master/folder/images/Temperature.jpeg)"
      ]
    },
    {
      "cell_type": "markdown",
      "metadata": {
        "id": "7BA0Wr41BZQA",
        "colab_type": "text"
      },
      "source": [
        "#Analysis Conclusion"
      ]
    },
    {
      "cell_type": "markdown",
      "metadata": {
        "id": "5pUP6eLnjCXx",
        "colab_type": "text"
      },
      "source": [
        "After receiving the weather data from NOAA, I wanted to create a visual representation of the information. I used excel to create the line chart above detailing both the max and min temperature for each day in October. When I analyzed the graph I noticed a sharp decrease in temperature Between October 12th and 13th. In max temp we see a 19 degree drop and in min temp we see a 20 degree decrease. After this dramatic change, the temperature stays at an average of 48.16 degrees in Fahrenheit in max temp and have an average min temp of 37.95 degrees."
      ]
    }
  ]
}